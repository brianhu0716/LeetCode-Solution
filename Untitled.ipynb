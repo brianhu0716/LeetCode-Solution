{
 "cells": [
  {
   "cell_type": "code",
   "execution_count": 1,
   "id": "d179d2e1",
   "metadata": {},
   "outputs": [
    {
     "data": {
      "text/plain": [
       "['9001', 'discuss.leetcode.com']"
      ]
     },
     "execution_count": 1,
     "metadata": {},
     "output_type": "execute_result"
    }
   ],
   "source": [
    "s = \"9001 discuss.leetcode.com\"\n",
    "s.split(\" \")"
   ]
  },
  {
   "cell_type": "code",
   "execution_count": 4,
   "id": "5be8c94b",
   "metadata": {},
   "outputs": [
    {
     "data": {
      "text/plain": [
       "['discuss', 'leetcode', 'com']"
      ]
     },
     "execution_count": 4,
     "metadata": {},
     "output_type": "execute_result"
    }
   ],
   "source": [
    "ss = s.split(\" \")\n",
    "sss = ss[1].split(\".\")\n",
    "sss"
   ]
  },
  {
   "cell_type": "code",
   "execution_count": 5,
   "id": "29e950a0",
   "metadata": {},
   "outputs": [
    {
     "name": "stdout",
     "output_type": "stream",
     "text": [
      "com\n",
      "leetcode.com\n",
      "discuss.leetcode.com\n"
     ]
    }
   ],
   "source": [
    "res = \"\"\n",
    "for string in sss[::-1]:\n",
    "    if not res:\n",
    "        res += string\n",
    "    else:\n",
    "        res = string + \".\" + res\n",
    "    print(res)"
   ]
  },
  {
   "cell_type": "code",
   "execution_count": 9,
   "id": "3fb8d162",
   "metadata": {},
   "outputs": [
    {
     "name": "stdout",
     "output_type": "stream",
     "text": [
      "951 com\n"
     ]
    }
   ],
   "source": [
    "d = {\"com\" : 951}\n",
    "for key, val in d.items():\n",
    "    print(\" \".join([str(val), key]))"
   ]
  },
  {
   "cell_type": "code",
   "execution_count": null,
   "id": "7259c37f",
   "metadata": {},
   "outputs": [],
   "source": []
  }
 ],
 "metadata": {
  "kernelspec": {
   "display_name": "Python 3 (ipykernel)",
   "language": "python",
   "name": "python3"
  },
  "language_info": {
   "codemirror_mode": {
    "name": "ipython",
    "version": 3
   },
   "file_extension": ".py",
   "mimetype": "text/x-python",
   "name": "python",
   "nbconvert_exporter": "python",
   "pygments_lexer": "ipython3",
   "version": "3.9.6"
  }
 },
 "nbformat": 4,
 "nbformat_minor": 5
}
